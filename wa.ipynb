#@title Install Library
import os, sys
from google.colab import drive
drive.mount('/content/drive',force_remount=True)
nb_path = '/content/notebooks'
os.symlink('/content/drive/My Drive/Colab Notebooks/mylib', nb_path)
sys.path.insert(0,nb_path)

!pip install --target=$nb_path qrcode
!pip install --target=$nb_path selenium
!pip install --target=$nb_path opencv-python
!pip install --target=$nb_path matplotlib


#@title Install Chromedriver
!apt-get update
!apt install chromium-chromedriver
!cp /usr/lib/chromium-browser/chromedriver /usr/binchromedriver
!cp /usr/lib/chromium-browser/chromedriver '/content/drive/MyDrive/Colab Notebooks/chromedriver'


#main
import sys,time, os, platform
from google.colab import drive
from pathlib import Path

sys.path.append('/content/drive/MyDrive/Colab Notebooks')
sys.path.insert(0,'/usr/lib/chromium-browser/chromedriver')

from google.colab import auth
import gspread
from google.auth import default
import datetime
from selenium import webdriver
from selenium.webdriver.support import expected_conditions as EC
from selenium.webdriver.common.by import By
from selenium.webdriver.support.ui import WebDriverWait
from selenium.webdriver.common.keys import Keys
from selenium.webdriver.common.action_chains import ActionChains
from selenium.webdriver.common.keys import Keys
import qrcode
from datetime import datetime
from PIL import Image
import pathlib

chrome_options = webdriver.ChromeOptions()
scriptDirectory = pathlib.Path().absolute()
chrome_options.add_argument(f"user-data-dir={scriptDirectory}\\userdata")
chrome_options.add_argument('--headless')
chrome_options.add_argument("user-agent=Mozilla/5.0 (Windows NT 10.0; Win64; x64) AppleWebKit/537.36 (KHTML, like Gecko) Chrome/87.0.4280.88 Safari/537.36")
chrome_options.add_argument('--no-sandbox')
chrome_options.add_argument('--disable-dev-shm-usage')
wd = webdriver.Chrome('chromedriver',options=chrome_options)
wd.get("https://web.whatsapp.com/%F0%9F%8C%90/id'")
wd.implicitly_wait(10)
waiter = WebDriverWait(wd, 10)
waiter.until(EC.title_is("WhatsApp"))
waitCounter = 0
while 1:
  try:
    waiter.until(EC.presence_of_element_located((By.XPATH, "//canvas[@aria-label='Scan me!']")))
    waitCounter+=1
    if waitCounter%1000 == 0:
      print ("Waiting for user to log in...", 'WARNING')
      qrimgisi=waiter.until(EC.presence_of_element_located(( By.XPATH, '//canvas[@aria-label="Scan me!"]/./..')))	
      isiqrcode=qrimgisi.get_attribute("data-ref")
      print (isiqrcode)
      img = qrcode.make(isiqrcode)
      img.save("qrcode_wa1.png")
      time.sleep(0.1)
      '''imgs = Image.open("qrcode_wa1.png")
      imgs.show()'''
      import cv2
      import matplotlib.pyplot as plt

      im = cv2.imread('qrcode_wa1.png')
      im_resized = cv2.resize(im, (224, 224), interpolation=cv2.INTER_LINEAR)

      plt.imshow(cv2.cvtColor(im_resized, cv2.COLOR_BGR2RGB))
      plt.show()
      wd.get_screenshot_as_file("qrcode_wa.png")	
      time.sleep(10)
  except:
    print("Logged in to WhatsApp", 'INFO')
    break

auth.authenticate_user()
creds, _ = default()
gc = gspread.authorize(creds)
sh = gc.open_by_key('1drDRGf1nfbQg4i0RzAhMa0oGND8W2qGQpB5c7TjLXXX')
ws = sh.worksheet('DATA KIRIM')

def num2alpha(num):
    if num<=26:
        return chr(64+num)
    elif num%26==0:
        return num2alpha(num//26-1)+chr(90)
    else:
        return num2alpha(num//26)+chr(64+num%26)

def page_is_loading(drx):
  while True:
    x = drx.execute_script("return document.readyState")
    if x == "complete":
      return True
    else:
      return False
dt_all = ws.get_all_records()

while 1:
  for item in dt_all:
    try:
      if (item['STATUS']==0):
          print(item)
          id=item['ID']
          message=item['PESAN']
          notelp=item['PENERIMA']
          message=message.replace("\n","%0a %0a")
          link = f"https://web.whatsapp.com/send/?phone={notelp}&text={message}&data="
          wd.get(link)
          while not page_is_loading(wd):
              continue
          waiter = WebDriverWait(wd, 10)
          wd.implicitly_wait(20)
          element = lambda d : d.find_elements(by=By.XPATH, value="//div//button/span[@data-icon='send']")
          loaded = WebDriverWait(wd, 20).until(method=element, message="User never signed in")
          wd.implicitly_wait(10)
          send = element(wd)[0]
          send.click()
          time.sleep(5)
          cell = ws.find(id)
          ws.update(num2alpha(cell.col-1)+str(cell.row),1)
          while not page_is_loading(wd):
              continue
    except Exception as e: 
      print(e)
      pass
  time.sleep(5)
time.sleep(5)
wd.close()
